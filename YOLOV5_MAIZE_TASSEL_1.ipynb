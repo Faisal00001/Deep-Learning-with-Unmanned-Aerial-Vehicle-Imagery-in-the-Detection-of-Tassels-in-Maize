{
 "cells": [
  {
   "cell_type": "markdown",
   "id": "d4629e50",
   "metadata": {},
   "source": [
    "# Cloning YOLOV5 REPOSITORY"
   ]
  },
  {
   "cell_type": "code",
   "execution_count": 1,
   "id": "6dc8945c",
   "metadata": {},
   "outputs": [
    {
     "name": "stderr",
     "output_type": "stream",
     "text": [
      "Cloning into 'yolov5'...\n"
     ]
    }
   ],
   "source": [
    "!git clone https://github.com/ultralytics/yolov5"
   ]
  },
  {
   "cell_type": "markdown",
   "id": "9e169546",
   "metadata": {},
   "source": [
    "# Cloning the YOLOv5 repository"
   ]
  },
  {
   "cell_type": "code",
   "execution_count": 2,
   "id": "a0efc36f",
   "metadata": {},
   "outputs": [
    {
     "name": "stdout",
     "output_type": "stream",
     "text": [
      "Requirement already satisfied: matplotlib>=3.2.2 in c:\\users\\asus\\anaconda3\\lib\\site-packages (from -r yolov5/requirements.txt (line 5)) (3.5.1)\n",
      "Requirement already satisfied: numpy>=1.18.5 in c:\\users\\asus\\anaconda3\\lib\\site-packages (from -r yolov5/requirements.txt (line 6)) (1.22.4)\n",
      "Requirement already satisfied: opencv-python>=4.1.1 in c:\\users\\asus\\anaconda3\\lib\\site-packages (from -r yolov5/requirements.txt (line 7)) (4.6.0.66)\n",
      "Requirement already satisfied: Pillow>=7.1.2 in c:\\users\\asus\\anaconda3\\lib\\site-packages (from -r yolov5/requirements.txt (line 8)) (9.0.1)\n",
      "Requirement already satisfied: PyYAML>=5.3.1 in c:\\users\\asus\\anaconda3\\lib\\site-packages (from -r yolov5/requirements.txt (line 9)) (6.0)\n",
      "Requirement already satisfied: requests>=2.23.0 in c:\\users\\asus\\anaconda3\\lib\\site-packages (from -r yolov5/requirements.txt (line 10)) (2.27.1)\n",
      "Requirement already satisfied: scipy>=1.4.1 in c:\\users\\asus\\anaconda3\\lib\\site-packages (from -r yolov5/requirements.txt (line 11)) (1.7.3)\n",
      "Requirement already satisfied: torch>=1.7.0 in c:\\users\\asus\\anaconda3\\lib\\site-packages (from -r yolov5/requirements.txt (line 12)) (1.11.0)\n",
      "Requirement already satisfied: torchvision>=0.8.1 in c:\\users\\asus\\anaconda3\\lib\\site-packages (from -r yolov5/requirements.txt (line 13)) (0.12.0)\n",
      "Requirement already satisfied: tqdm>=4.41.0 in c:\\users\\asus\\anaconda3\\lib\\site-packages (from -r yolov5/requirements.txt (line 14)) (4.64.0)\n",
      "Requirement already satisfied: protobuf<=3.20.1 in c:\\users\\asus\\anaconda3\\lib\\site-packages (from -r yolov5/requirements.txt (line 15)) (3.19.1)\n",
      "Requirement already satisfied: tensorboard>=2.4.1 in c:\\users\\asus\\anaconda3\\lib\\site-packages (from -r yolov5/requirements.txt (line 18)) (2.9.1)\n",
      "Requirement already satisfied: pandas>=1.1.4 in c:\\users\\asus\\anaconda3\\lib\\site-packages (from -r yolov5/requirements.txt (line 22)) (1.4.2)\n",
      "Requirement already satisfied: seaborn>=0.11.0 in c:\\users\\asus\\anaconda3\\lib\\site-packages (from -r yolov5/requirements.txt (line 23)) (0.11.2)\n",
      "Requirement already satisfied: ipython in c:\\users\\asus\\anaconda3\\lib\\site-packages (from -r yolov5/requirements.txt (line 35)) (8.2.0)\n",
      "Requirement already satisfied: psutil in c:\\users\\asus\\anaconda3\\lib\\site-packages (from -r yolov5/requirements.txt (line 36)) (5.8.0)\n",
      "Requirement already satisfied: thop in c:\\users\\asus\\anaconda3\\lib\\site-packages (from -r yolov5/requirements.txt (line 37)) (0.1.0.post2206102148)\n",
      "Requirement already satisfied: packaging>=20.0 in c:\\users\\asus\\anaconda3\\lib\\site-packages (from matplotlib>=3.2.2->-r yolov5/requirements.txt (line 5)) (21.3)\n",
      "Requirement already satisfied: kiwisolver>=1.0.1 in c:\\users\\asus\\anaconda3\\lib\\site-packages (from matplotlib>=3.2.2->-r yolov5/requirements.txt (line 5)) (1.3.2)\n",
      "Requirement already satisfied: cycler>=0.10 in c:\\users\\asus\\anaconda3\\lib\\site-packages (from matplotlib>=3.2.2->-r yolov5/requirements.txt (line 5)) (0.11.0)\n",
      "Requirement already satisfied: pyparsing>=2.2.1 in c:\\users\\asus\\anaconda3\\lib\\site-packages (from matplotlib>=3.2.2->-r yolov5/requirements.txt (line 5)) (3.0.4)\n",
      "Requirement already satisfied: python-dateutil>=2.7 in c:\\users\\asus\\anaconda3\\lib\\site-packages (from matplotlib>=3.2.2->-r yolov5/requirements.txt (line 5)) (2.8.2)\n",
      "Requirement already satisfied: fonttools>=4.22.0 in c:\\users\\asus\\anaconda3\\lib\\site-packages (from matplotlib>=3.2.2->-r yolov5/requirements.txt (line 5)) (4.25.0)\n",
      "Requirement already satisfied: charset-normalizer~=2.0.0 in c:\\users\\asus\\anaconda3\\lib\\site-packages (from requests>=2.23.0->-r yolov5/requirements.txt (line 10)) (2.0.4)\n",
      "Requirement already satisfied: certifi>=2017.4.17 in c:\\users\\asus\\anaconda3\\lib\\site-packages (from requests>=2.23.0->-r yolov5/requirements.txt (line 10)) (2021.10.8)\n",
      "Requirement already satisfied: urllib3<1.27,>=1.21.1 in c:\\users\\asus\\anaconda3\\lib\\site-packages (from requests>=2.23.0->-r yolov5/requirements.txt (line 10)) (1.26.9)\n",
      "Requirement already satisfied: idna<4,>=2.5 in c:\\users\\asus\\anaconda3\\lib\\site-packages (from requests>=2.23.0->-r yolov5/requirements.txt (line 10)) (3.3)\n",
      "Requirement already satisfied: typing_extensions in c:\\users\\asus\\anaconda3\\lib\\site-packages (from torch>=1.7.0->-r yolov5/requirements.txt (line 12)) (4.1.1)\n",
      "Requirement already satisfied: colorama in c:\\users\\asus\\anaconda3\\lib\\site-packages (from tqdm>=4.41.0->-r yolov5/requirements.txt (line 14)) (0.4.4)\n",
      "Requirement already satisfied: google-auth<3,>=1.6.3 in c:\\users\\asus\\anaconda3\\lib\\site-packages (from tensorboard>=2.4.1->-r yolov5/requirements.txt (line 18)) (1.33.0)\n",
      "Requirement already satisfied: grpcio>=1.24.3 in c:\\users\\asus\\anaconda3\\lib\\site-packages (from tensorboard>=2.4.1->-r yolov5/requirements.txt (line 18)) (1.42.0)\n",
      "Requirement already satisfied: wheel>=0.26 in c:\\users\\asus\\anaconda3\\lib\\site-packages (from tensorboard>=2.4.1->-r yolov5/requirements.txt (line 18)) (0.37.1)\n",
      "Requirement already satisfied: google-auth-oauthlib<0.5,>=0.4.1 in c:\\users\\asus\\anaconda3\\lib\\site-packages (from tensorboard>=2.4.1->-r yolov5/requirements.txt (line 18)) (0.4.6)\n",
      "Requirement already satisfied: setuptools>=41.0.0 in c:\\users\\asus\\anaconda3\\lib\\site-packages (from tensorboard>=2.4.1->-r yolov5/requirements.txt (line 18)) (61.2.0)\n",
      "Requirement already satisfied: werkzeug>=1.0.1 in c:\\users\\asus\\anaconda3\\lib\\site-packages (from tensorboard>=2.4.1->-r yolov5/requirements.txt (line 18)) (2.0.3)\n",
      "Requirement already satisfied: absl-py>=0.4 in c:\\users\\asus\\anaconda3\\lib\\site-packages (from tensorboard>=2.4.1->-r yolov5/requirements.txt (line 18)) (1.1.0)\n",
      "Requirement already satisfied: markdown>=2.6.8 in c:\\users\\asus\\anaconda3\\lib\\site-packages (from tensorboard>=2.4.1->-r yolov5/requirements.txt (line 18)) (3.3.4)\n",
      "Requirement already satisfied: tensorboard-data-server<0.7.0,>=0.6.0 in c:\\users\\asus\\anaconda3\\lib\\site-packages (from tensorboard>=2.4.1->-r yolov5/requirements.txt (line 18)) (0.6.1)\n",
      "Requirement already satisfied: tensorboard-plugin-wit>=1.6.0 in c:\\users\\asus\\anaconda3\\lib\\site-packages (from tensorboard>=2.4.1->-r yolov5/requirements.txt (line 18)) (1.8.1)\n",
      "Requirement already satisfied: pytz>=2020.1 in c:\\users\\asus\\anaconda3\\lib\\site-packages (from pandas>=1.1.4->-r yolov5/requirements.txt (line 22)) (2021.3)\n",
      "Requirement already satisfied: jedi>=0.16 in c:\\users\\asus\\anaconda3\\lib\\site-packages (from ipython->-r yolov5/requirements.txt (line 35)) (0.18.1)\n",
      "Requirement already satisfied: backcall in c:\\users\\asus\\anaconda3\\lib\\site-packages (from ipython->-r yolov5/requirements.txt (line 35)) (0.2.0)\n",
      "Requirement already satisfied: pickleshare in c:\\users\\asus\\anaconda3\\lib\\site-packages (from ipython->-r yolov5/requirements.txt (line 35)) (0.7.5)\n",
      "Requirement already satisfied: decorator in c:\\users\\asus\\anaconda3\\lib\\site-packages (from ipython->-r yolov5/requirements.txt (line 35)) (5.1.1)\n",
      "Requirement already satisfied: matplotlib-inline in c:\\users\\asus\\anaconda3\\lib\\site-packages (from ipython->-r yolov5/requirements.txt (line 35)) (0.1.2)\n",
      "Requirement already satisfied: prompt-toolkit!=3.0.0,!=3.0.1,<3.1.0,>=2.0.0 in c:\\users\\asus\\anaconda3\\lib\\site-packages (from ipython->-r yolov5/requirements.txt (line 35)) (3.0.20)\n",
      "Requirement already satisfied: traitlets>=5 in c:\\users\\asus\\anaconda3\\lib\\site-packages (from ipython->-r yolov5/requirements.txt (line 35)) (5.1.1)\n",
      "Requirement already satisfied: pygments>=2.4.0 in c:\\users\\asus\\anaconda3\\lib\\site-packages (from ipython->-r yolov5/requirements.txt (line 35)) (2.11.2)\n",
      "Requirement already satisfied: stack-data in c:\\users\\asus\\anaconda3\\lib\\site-packages (from ipython->-r yolov5/requirements.txt (line 35)) (0.2.0)\n",
      "Requirement already satisfied: cachetools<5.0,>=2.0.0 in c:\\users\\asus\\anaconda3\\lib\\site-packages (from google-auth<3,>=1.6.3->tensorboard>=2.4.1->-r yolov5/requirements.txt (line 18)) (4.2.2)\n",
      "Requirement already satisfied: pyasn1-modules>=0.2.1 in c:\\users\\asus\\anaconda3\\lib\\site-packages (from google-auth<3,>=1.6.3->tensorboard>=2.4.1->-r yolov5/requirements.txt (line 18)) (0.2.8)\n",
      "Requirement already satisfied: rsa<5,>=3.1.4 in c:\\users\\asus\\anaconda3\\lib\\site-packages (from google-auth<3,>=1.6.3->tensorboard>=2.4.1->-r yolov5/requirements.txt (line 18)) (4.7.2)\n",
      "Requirement already satisfied: six>=1.9.0 in c:\\users\\asus\\anaconda3\\lib\\site-packages (from google-auth<3,>=1.6.3->tensorboard>=2.4.1->-r yolov5/requirements.txt (line 18)) (1.16.0)\n",
      "Requirement already satisfied: requests-oauthlib>=0.7.0 in c:\\users\\asus\\anaconda3\\lib\\site-packages (from google-auth-oauthlib<0.5,>=0.4.1->tensorboard>=2.4.1->-r yolov5/requirements.txt (line 18)) (1.3.1)\n",
      "Requirement already satisfied: parso<0.9.0,>=0.8.0 in c:\\users\\asus\\anaconda3\\lib\\site-packages (from jedi>=0.16->ipython->-r yolov5/requirements.txt (line 35)) (0.8.3)\n",
      "Requirement already satisfied: wcwidth in c:\\users\\asus\\anaconda3\\lib\\site-packages (from prompt-toolkit!=3.0.0,!=3.0.1,<3.1.0,>=2.0.0->ipython->-r yolov5/requirements.txt (line 35)) (0.2.5)\n",
      "Requirement already satisfied: pyasn1<0.5.0,>=0.4.6 in c:\\users\\asus\\anaconda3\\lib\\site-packages (from pyasn1-modules>=0.2.1->google-auth<3,>=1.6.3->tensorboard>=2.4.1->-r yolov5/requirements.txt (line 18)) (0.4.8)\n",
      "Requirement already satisfied: oauthlib>=3.0.0 in c:\\users\\asus\\anaconda3\\lib\\site-packages (from requests-oauthlib>=0.7.0->google-auth-oauthlib<0.5,>=0.4.1->tensorboard>=2.4.1->-r yolov5/requirements.txt (line 18)) (3.2.0)\n",
      "Requirement already satisfied: asttokens in c:\\users\\asus\\anaconda3\\lib\\site-packages (from stack-data->ipython->-r yolov5/requirements.txt (line 35)) (2.0.5)\n",
      "Requirement already satisfied: executing in c:\\users\\asus\\anaconda3\\lib\\site-packages (from stack-data->ipython->-r yolov5/requirements.txt (line 35)) (0.8.3)\n",
      "Requirement already satisfied: pure-eval in c:\\users\\asus\\anaconda3\\lib\\site-packages (from stack-data->ipython->-r yolov5/requirements.txt (line 35)) (0.2.2)\n"
     ]
    }
   ],
   "source": [
    "!pip install -r yolov5/requirements.txt"
   ]
  },
  {
   "cell_type": "markdown",
   "id": "5f1a254c",
   "metadata": {},
   "source": [
    "# Installing albumnetations"
   ]
  },
  {
   "cell_type": "code",
   "execution_count": 3,
   "id": "cc431e36",
   "metadata": {},
   "outputs": [
    {
     "name": "stdout",
     "output_type": "stream",
     "text": [
      "Requirement already satisfied: albumentations in c:\\users\\asus\\anaconda3\\lib\\site-packages (1.0.3)\n",
      "Collecting albumentations\n",
      "  Using cached albumentations-1.2.0-py3-none-any.whl (113 kB)\n",
      "Requirement already satisfied: scikit-image<0.19,>=0.16.1 in c:\\users\\asus\\anaconda3\\lib\\site-packages (from albumentations) (0.18.3)\n",
      "Requirement already satisfied: PyYAML in c:\\users\\asus\\anaconda3\\lib\\site-packages (from albumentations) (6.0)\n",
      "Requirement already satisfied: numpy>=1.11.1 in c:\\users\\asus\\anaconda3\\lib\\site-packages (from albumentations) (1.22.4)\n",
      "Requirement already satisfied: opencv-python-headless>=4.1.1 in c:\\users\\asus\\anaconda3\\lib\\site-packages (from albumentations) (4.6.0.66)\n",
      "Requirement already satisfied: qudida>=0.0.4 in c:\\users\\asus\\anaconda3\\lib\\site-packages (from albumentations) (0.0.4)\n",
      "Requirement already satisfied: scipy in c:\\users\\asus\\anaconda3\\lib\\site-packages (from albumentations) (1.7.3)\n",
      "Requirement already satisfied: scikit-learn>=0.19.1 in c:\\users\\asus\\anaconda3\\lib\\site-packages (from qudida>=0.0.4->albumentations) (1.0.2)\n",
      "Requirement already satisfied: typing-extensions in c:\\users\\asus\\anaconda3\\lib\\site-packages (from qudida>=0.0.4->albumentations) (4.1.1)\n",
      "Requirement already satisfied: matplotlib!=3.0.0,>=2.0.0 in c:\\users\\asus\\anaconda3\\lib\\site-packages (from scikit-image<0.19,>=0.16.1->albumentations) (3.5.1)\n",
      "Requirement already satisfied: tifffile>=2019.7.26 in c:\\users\\asus\\anaconda3\\lib\\site-packages (from scikit-image<0.19,>=0.16.1->albumentations) (2021.7.2)\n",
      "Requirement already satisfied: imageio>=2.3.0 in c:\\users\\asus\\anaconda3\\lib\\site-packages (from scikit-image<0.19,>=0.16.1->albumentations) (2.9.0)\n",
      "Requirement already satisfied: pillow!=7.1.0,!=7.1.1,>=4.3.0 in c:\\users\\asus\\anaconda3\\lib\\site-packages (from scikit-image<0.19,>=0.16.1->albumentations) (9.0.1)\n",
      "Requirement already satisfied: networkx>=2.0 in c:\\users\\asus\\anaconda3\\lib\\site-packages (from scikit-image<0.19,>=0.16.1->albumentations) (2.7.1)\n",
      "Requirement already satisfied: PyWavelets>=1.1.1 in c:\\users\\asus\\anaconda3\\lib\\site-packages (from scikit-image<0.19,>=0.16.1->albumentations) (1.3.0)\n",
      "Requirement already satisfied: kiwisolver>=1.0.1 in c:\\users\\asus\\anaconda3\\lib\\site-packages (from matplotlib!=3.0.0,>=2.0.0->scikit-image<0.19,>=0.16.1->albumentations) (1.3.2)\n",
      "Requirement already satisfied: cycler>=0.10 in c:\\users\\asus\\anaconda3\\lib\\site-packages (from matplotlib!=3.0.0,>=2.0.0->scikit-image<0.19,>=0.16.1->albumentations) (0.11.0)\n",
      "Requirement already satisfied: pyparsing>=2.2.1 in c:\\users\\asus\\anaconda3\\lib\\site-packages (from matplotlib!=3.0.0,>=2.0.0->scikit-image<0.19,>=0.16.1->albumentations) (3.0.4)\n",
      "Requirement already satisfied: packaging>=20.0 in c:\\users\\asus\\anaconda3\\lib\\site-packages (from matplotlib!=3.0.0,>=2.0.0->scikit-image<0.19,>=0.16.1->albumentations) (21.3)\n",
      "Requirement already satisfied: python-dateutil>=2.7 in c:\\users\\asus\\anaconda3\\lib\\site-packages (from matplotlib!=3.0.0,>=2.0.0->scikit-image<0.19,>=0.16.1->albumentations) (2.8.2)\n",
      "Requirement already satisfied: fonttools>=4.22.0 in c:\\users\\asus\\anaconda3\\lib\\site-packages (from matplotlib!=3.0.0,>=2.0.0->scikit-image<0.19,>=0.16.1->albumentations) (4.25.0)\n",
      "Requirement already satisfied: six>=1.5 in c:\\users\\asus\\anaconda3\\lib\\site-packages (from python-dateutil>=2.7->matplotlib!=3.0.0,>=2.0.0->scikit-image<0.19,>=0.16.1->albumentations) (1.16.0)\n",
      "Requirement already satisfied: threadpoolctl>=2.0.0 in c:\\users\\asus\\anaconda3\\lib\\site-packages (from scikit-learn>=0.19.1->qudida>=0.0.4->albumentations) (2.2.0)\n",
      "Requirement already satisfied: joblib>=0.11 in c:\\users\\asus\\anaconda3\\lib\\site-packages (from scikit-learn>=0.19.1->qudida>=0.0.4->albumentations) (1.1.0)\n",
      "Installing collected packages: albumentations\n",
      "  Attempting uninstall: albumentations\n",
      "    Found existing installation: albumentations 1.0.3\n",
      "    Uninstalling albumentations-1.0.3:\n",
      "      Successfully uninstalled albumentations-1.0.3\n",
      "Successfully installed albumentations-1.2.0\n"
     ]
    }
   ],
   "source": [
    "!pip install -U albumentations"
   ]
  },
  {
   "cell_type": "code",
   "execution_count": 4,
   "id": "e79714b0",
   "metadata": {},
   "outputs": [
    {
     "name": "stdout",
     "output_type": "stream",
     "text": [
      "Collecting albumentations==1.0.3\n",
      "  Using cached albumentations-1.0.3-py3-none-any.whl (98 kB)\n",
      "Requirement already satisfied: scikit-image>=0.16.1 in c:\\users\\asus\\anaconda3\\lib\\site-packages (from albumentations==1.0.3) (0.18.3)\n",
      "Requirement already satisfied: opencv-python-headless>=4.1.1 in c:\\users\\asus\\anaconda3\\lib\\site-packages (from albumentations==1.0.3) (4.6.0.66)\n",
      "Requirement already satisfied: scipy in c:\\users\\asus\\anaconda3\\lib\\site-packages (from albumentations==1.0.3) (1.7.3)\n",
      "Requirement already satisfied: numpy>=1.11.1 in c:\\users\\asus\\anaconda3\\lib\\site-packages (from albumentations==1.0.3) (1.22.4)\n",
      "Requirement already satisfied: PyYAML in c:\\users\\asus\\anaconda3\\lib\\site-packages (from albumentations==1.0.3) (6.0)\n",
      "Requirement already satisfied: imageio>=2.3.0 in c:\\users\\asus\\anaconda3\\lib\\site-packages (from scikit-image>=0.16.1->albumentations==1.0.3) (2.9.0)\n",
      "Requirement already satisfied: networkx>=2.0 in c:\\users\\asus\\anaconda3\\lib\\site-packages (from scikit-image>=0.16.1->albumentations==1.0.3) (2.7.1)\n",
      "Requirement already satisfied: pillow!=7.1.0,!=7.1.1,>=4.3.0 in c:\\users\\asus\\anaconda3\\lib\\site-packages (from scikit-image>=0.16.1->albumentations==1.0.3) (9.0.1)\n",
      "Requirement already satisfied: tifffile>=2019.7.26 in c:\\users\\asus\\anaconda3\\lib\\site-packages (from scikit-image>=0.16.1->albumentations==1.0.3) (2021.7.2)\n",
      "Requirement already satisfied: matplotlib!=3.0.0,>=2.0.0 in c:\\users\\asus\\anaconda3\\lib\\site-packages (from scikit-image>=0.16.1->albumentations==1.0.3) (3.5.1)\n",
      "Note: you may need to restart the kernel to use updated packages.\n",
      "Requirement already satisfied: PyWavelets>=1.1.1 in c:\\users\\asus\\anaconda3\\lib\\site-packages (from scikit-image>=0.16.1->albumentations==1.0.3) (1.3.0)\n",
      "Requirement already satisfied: kiwisolver>=1.0.1 in c:\\users\\asus\\anaconda3\\lib\\site-packages (from matplotlib!=3.0.0,>=2.0.0->scikit-image>=0.16.1->albumentations==1.0.3) (1.3.2)\n",
      "Requirement already satisfied: fonttools>=4.22.0 in c:\\users\\asus\\anaconda3\\lib\\site-packages (from matplotlib!=3.0.0,>=2.0.0->scikit-image>=0.16.1->albumentations==1.0.3) (4.25.0)\n",
      "Requirement already satisfied: packaging>=20.0 in c:\\users\\asus\\anaconda3\\lib\\site-packages (from matplotlib!=3.0.0,>=2.0.0->scikit-image>=0.16.1->albumentations==1.0.3) (21.3)\n",
      "Requirement already satisfied: pyparsing>=2.2.1 in c:\\users\\asus\\anaconda3\\lib\\site-packages (from matplotlib!=3.0.0,>=2.0.0->scikit-image>=0.16.1->albumentations==1.0.3) (3.0.4)\n",
      "Requirement already satisfied: python-dateutil>=2.7 in c:\\users\\asus\\anaconda3\\lib\\site-packages (from matplotlib!=3.0.0,>=2.0.0->scikit-image>=0.16.1->albumentations==1.0.3) (2.8.2)\n",
      "Requirement already satisfied: cycler>=0.10 in c:\\users\\asus\\anaconda3\\lib\\site-packages (from matplotlib!=3.0.0,>=2.0.0->scikit-image>=0.16.1->albumentations==1.0.3) (0.11.0)\n",
      "Requirement already satisfied: six>=1.5 in c:\\users\\asus\\anaconda3\\lib\\site-packages (from python-dateutil>=2.7->matplotlib!=3.0.0,>=2.0.0->scikit-image>=0.16.1->albumentations==1.0.3) (1.16.0)\n",
      "Installing collected packages: albumentations\n",
      "  Attempting uninstall: albumentations\n",
      "    Found existing installation: albumentations 1.2.0\n",
      "    Uninstalling albumentations-1.2.0:\n",
      "      Successfully uninstalled albumentations-1.2.0\n",
      "Successfully installed albumentations-1.0.3\n"
     ]
    }
   ],
   "source": [
    "pip install albumentations==1.0.3"
   ]
  },
  {
   "cell_type": "code",
   "execution_count": 5,
   "id": "e58e150b",
   "metadata": {},
   "outputs": [],
   "source": [
    "import cv2"
   ]
  },
  {
   "cell_type": "code",
   "execution_count": 6,
   "id": "5345ee58",
   "metadata": {},
   "outputs": [
    {
     "name": "stdout",
     "output_type": "stream",
     "text": [
      "Requirement already satisfied: wandb in c:\\users\\asus\\anaconda3\\lib\\site-packages (0.12.18)\n",
      "Requirement already satisfied: sentry-sdk>=1.0.0 in c:\\users\\asus\\anaconda3\\lib\\site-packages (from wandb) (1.5.12)\n",
      "Requirement already satisfied: GitPython>=1.0.0 in c:\\users\\asus\\anaconda3\\lib\\site-packages (from wandb) (3.1.27)\n",
      "Requirement already satisfied: promise<3,>=2.0 in c:\\users\\asus\\anaconda3\\lib\\site-packages (from wandb) (2.3)\n",
      "Requirement already satisfied: PyYAML in c:\\users\\asus\\anaconda3\\lib\\site-packages (from wandb) (6.0)\n",
      "Requirement already satisfied: protobuf<4.0dev,>=3.12.0 in c:\\users\\asus\\anaconda3\\lib\\site-packages (from wandb) (3.19.1)\n",
      "Requirement already satisfied: setproctitle in c:\\users\\asus\\anaconda3\\lib\\site-packages (from wandb) (1.2.3)\n",
      "Requirement already satisfied: psutil>=5.0.0 in c:\\users\\asus\\anaconda3\\lib\\site-packages (from wandb) (5.8.0)\n",
      "Requirement already satisfied: Click!=8.0.0,>=7.0 in c:\\users\\asus\\anaconda3\\lib\\site-packages (from wandb) (8.0.4)\n",
      "Requirement already satisfied: requests<3,>=2.0.0 in c:\\users\\asus\\anaconda3\\lib\\site-packages (from wandb) (2.27.1)\n",
      "Requirement already satisfied: docker-pycreds>=0.4.0 in c:\\users\\asus\\anaconda3\\lib\\site-packages (from wandb) (0.4.0)\n",
      "Requirement already satisfied: six>=1.13.0 in c:\\users\\asus\\anaconda3\\lib\\site-packages (from wandb) (1.16.0)\n",
      "Requirement already satisfied: shortuuid>=0.5.0 in c:\\users\\asus\\anaconda3\\lib\\site-packages (from wandb) (1.0.9)\n",
      "Requirement already satisfied: pathtools in c:\\users\\asus\\anaconda3\\lib\\site-packages (from wandb) (0.1.2)\n",
      "Requirement already satisfied: setuptools in c:\\users\\asus\\anaconda3\\lib\\site-packages (from wandb) (61.2.0)\n",
      "Requirement already satisfied: colorama in c:\\users\\asus\\anaconda3\\lib\\site-packages (from Click!=8.0.0,>=7.0->wandb) (0.4.4)\n",
      "Requirement already satisfied: gitdb<5,>=4.0.1 in c:\\users\\asus\\anaconda3\\lib\\site-packages (from GitPython>=1.0.0->wandb) (4.0.9)\n",
      "Requirement already satisfied: smmap<6,>=3.0.1 in c:\\users\\asus\\anaconda3\\lib\\site-packages (from gitdb<5,>=4.0.1->GitPython>=1.0.0->wandb) (5.0.0)\n",
      "Requirement already satisfied: idna<4,>=2.5 in c:\\users\\asus\\anaconda3\\lib\\site-packages (from requests<3,>=2.0.0->wandb) (3.3)\n",
      "Requirement already satisfied: urllib3<1.27,>=1.21.1 in c:\\users\\asus\\anaconda3\\lib\\site-packages (from requests<3,>=2.0.0->wandb) (1.26.9)\n",
      "Requirement already satisfied: charset-normalizer~=2.0.0 in c:\\users\\asus\\anaconda3\\lib\\site-packages (from requests<3,>=2.0.0->wandb) (2.0.4)\n",
      "Requirement already satisfied: certifi>=2017.4.17 in c:\\users\\asus\\anaconda3\\lib\\site-packages (from requests<3,>=2.0.0->wandb) (2021.10.8)\n"
     ]
    }
   ],
   "source": [
    "!pip install wandb"
   ]
  },
  {
   "cell_type": "markdown",
   "id": "b64d085b",
   "metadata": {},
   "source": [
    "# Creating Model architecture configuration file"
   ]
  },
  {
   "cell_type": "code",
   "execution_count": 7,
   "id": "1745ad36",
   "metadata": {},
   "outputs": [],
   "source": [
    "with open('new_train_yaml', 'w+') as file:\n",
    "    file.write(\n",
    "        \"\"\"\n",
    "        # parameters\n",
    "        nc: 1  # number of classes\n",
    "        depth_multiple: 0.33  # model depth multiple\n",
    "        width_multiple: 0.50  # layer channel multiple\n",
    "\n",
    "        # anchors\n",
    "        anchors:\n",
    "          - [10,13, 16,30, 33,23]  # P3/8\n",
    "          - [30,61, 62,45, 59,119]  # P4/16\n",
    "          - [116,90, 156,198, 373,326]  # P5/32\n",
    "\n",
    "        # YOLOv5 backbone\n",
    "        backbone:\n",
    "          # [from, number, module, args]\n",
    "          [[-1, 1, Focus, [64, 3]],  # 0-P1/2\n",
    "           [-1, 1, Conv, [128, 3, 2]],  # 1-P2/4\n",
    "           [-1, 3, BottleneckCSP, [128]],\n",
    "           [-1, 1, Conv, [256, 3, 2]],  # 3-P3/8\n",
    "           [-1, 9, BottleneckCSP, [256]],\n",
    "           [-1, 1, Conv, [512, 3, 2]],  # 5-P4/16\n",
    "           [-1, 9, BottleneckCSP, [512]],\n",
    "           [-1, 1, Conv, [1024, 3, 2]],  # 7-P5/32\n",
    "           [-1, 1, SPP, [1024, [5, 9, 13]]],\n",
    "           [-1, 3, BottleneckCSP, [1024, False]],  # 9\n",
    "          ]\n",
    "\n",
    "        # YOLOv5 head\n",
    "        head:\n",
    "          [[-1, 1, Conv, [512, 1, 1]],\n",
    "           [-1, 1, nn.Upsample, [None, 2, 'nearest']],\n",
    "           [[-1, 6], 1, Concat, [1]],  # cat backbone P4\n",
    "           [-1, 3, BottleneckCSP, [512, False]],  # 13\n",
    "\n",
    "           [-1, 1, Conv, [256, 1, 1]],\n",
    "           [-1, 1, nn.Upsample, [None, 2, 'nearest']],\n",
    "           [[-1, 4], 1, Concat, [1]],  # cat backbone P3\n",
    "           [-1, 3, BottleneckCSP, [256, False]],  # 17 (P3/8-small)\n",
    "\n",
    "           [-1, 1, Conv, [256, 3, 2]],\n",
    "           [[-1, 14], 1, Concat, [1]],  # cat head P4\n",
    "           [-1, 3, BottleneckCSP, [512, False]],  # 20 (P4/16-medium)\n",
    "\n",
    "           [-1, 1, Conv, [512, 3, 2]],\n",
    "           [[-1, 10], 1, Concat, [1]],  # cat head P5\n",
    "           [-1, 3, BottleneckCSP, [1024, False]],  # 23 (P5/32-large)\n",
    "\n",
    "           [[17, 20, 23], 1, Detect, [nc, anchors]],  # Detect(P3, P4, P5)\n",
    "          ]\n",
    "        \"\"\"\n",
    "    )"
   ]
  },
  {
   "cell_type": "markdown",
   "id": "34ebf1e8",
   "metadata": {},
   "source": [
    "# Creating training configuration file"
   ]
  },
  {
   "cell_type": "code",
   "execution_count": 8,
   "id": "45f6c9ab",
   "metadata": {},
   "outputs": [],
   "source": [
    "with open('new_data_yaml', 'w+') as file:\n",
    "    file.write(\n",
    "        \"\"\"\n",
    "        train: F:/YOLOV5_MAIZE_TASSEL_1/YOLOV5_MAIZE_TASSEL.v1i.yolov5pytorch/images/train\n",
    "        val: F:/YOLOV5_MAIZE_TASSEL_1/YOLOV5_MAIZE_TASSEL.v1i.yolov5pytorch/images/valid\n",
    "\n",
    "        nc: 1\n",
    "        names: ['tassels'\n",
    "]\n",
    "        \"\"\"\n",
    "    )"
   ]
  },
  {
   "cell_type": "markdown",
   "id": "3e44b6c1",
   "metadata": {},
   "source": [
    "# Training"
   ]
  },
  {
   "cell_type": "code",
   "execution_count": null,
   "id": "fce71b6f",
   "metadata": {},
   "outputs": [],
   "source": [
    "!python yolov5/train.py --img 416 --batch 8 --epochs 50 --data new_data_yaml --cfg new_train_yaml"
   ]
  },
  {
   "cell_type": "code",
   "execution_count": null,
   "id": "18702cff",
   "metadata": {},
   "outputs": [],
   "source": []
  }
 ],
 "metadata": {
  "kernelspec": {
   "display_name": "Python 3 (ipykernel)",
   "language": "python",
   "name": "python3"
  },
  "language_info": {
   "codemirror_mode": {
    "name": "ipython",
    "version": 3
   },
   "file_extension": ".py",
   "mimetype": "text/x-python",
   "name": "python",
   "nbconvert_exporter": "python",
   "pygments_lexer": "ipython3",
   "version": "3.9.12"
  }
 },
 "nbformat": 4,
 "nbformat_minor": 5
}
